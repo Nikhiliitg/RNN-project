{
 "cells": [
  {
   "cell_type": "code",
   "execution_count": 2,
   "metadata": {},
   "outputs": [],
   "source": [
    "import pandas as pd\n",
    "import numpy as np\n",
    "import tensorflow as tf\n",
    "from tensorflow.keras.datasets import imdb\n",
    "from tensorflow.keras.preprocessing import sequence\n",
    "from tensorflow.keras.models import load_model"
   ]
  },
  {
   "cell_type": "code",
   "execution_count": 3,
   "metadata": {},
   "outputs": [],
   "source": [
    "word_index=imdb.get_word_index()\n",
    "reverse_word_index={value:key for key,value in word_index.items(\n",
    ")}"
   ]
  },
  {
   "cell_type": "code",
   "execution_count": 4,
   "metadata": {},
   "outputs": [
    {
     "name": "stderr",
     "output_type": "stream",
     "text": [
      "WARNING:absl:Compiled the loaded model, but the compiled metrics have yet to be built. `model.compile_metrics` will be empty until you train or evaluate the model.\n"
     ]
    },
    {
     "data": {
      "text/html": [
       "<pre style=\"white-space:pre;overflow-x:auto;line-height:normal;font-family:Menlo,'DejaVu Sans Mono',consolas,'Courier New',monospace\"><span style=\"font-weight: bold\">Model: \"sequential\"</span>\n",
       "</pre>\n"
      ],
      "text/plain": [
       "\u001b[1mModel: \"sequential\"\u001b[0m\n"
      ]
     },
     "metadata": {},
     "output_type": "display_data"
    },
    {
     "data": {
      "text/html": [
       "<pre style=\"white-space:pre;overflow-x:auto;line-height:normal;font-family:Menlo,'DejaVu Sans Mono',consolas,'Courier New',monospace\">┏━━━━━━━━━━━━━━━━━━━━━━━━━━━━━━━━━┳━━━━━━━━━━━━━━━━━━━━━━━━┳━━━━━━━━━━━━━━━┓\n",
       "┃<span style=\"font-weight: bold\"> Layer (type)                    </span>┃<span style=\"font-weight: bold\"> Output Shape           </span>┃<span style=\"font-weight: bold\">       Param # </span>┃\n",
       "┡━━━━━━━━━━━━━━━━━━━━━━━━━━━━━━━━━╇━━━━━━━━━━━━━━━━━━━━━━━━╇━━━━━━━━━━━━━━━┩\n",
       "│ embedding (<span style=\"color: #0087ff; text-decoration-color: #0087ff\">Embedding</span>)           │ (<span style=\"color: #00af00; text-decoration-color: #00af00\">32</span>, <span style=\"color: #00af00; text-decoration-color: #00af00\">500</span>, <span style=\"color: #00af00; text-decoration-color: #00af00\">128</span>)         │     <span style=\"color: #00af00; text-decoration-color: #00af00\">1,280,000</span> │\n",
       "├─────────────────────────────────┼────────────────────────┼───────────────┤\n",
       "│ simple_rnn (<span style=\"color: #0087ff; text-decoration-color: #0087ff\">SimpleRNN</span>)          │ (<span style=\"color: #00af00; text-decoration-color: #00af00\">32</span>, <span style=\"color: #00af00; text-decoration-color: #00af00\">128</span>)              │        <span style=\"color: #00af00; text-decoration-color: #00af00\">32,896</span> │\n",
       "├─────────────────────────────────┼────────────────────────┼───────────────┤\n",
       "│ dense (<span style=\"color: #0087ff; text-decoration-color: #0087ff\">Dense</span>)                   │ (<span style=\"color: #00af00; text-decoration-color: #00af00\">32</span>, <span style=\"color: #00af00; text-decoration-color: #00af00\">1</span>)                │           <span style=\"color: #00af00; text-decoration-color: #00af00\">129</span> │\n",
       "└─────────────────────────────────┴────────────────────────┴───────────────┘\n",
       "</pre>\n"
      ],
      "text/plain": [
       "┏━━━━━━━━━━━━━━━━━━━━━━━━━━━━━━━━━┳━━━━━━━━━━━━━━━━━━━━━━━━┳━━━━━━━━━━━━━━━┓\n",
       "┃\u001b[1m \u001b[0m\u001b[1mLayer (type)                   \u001b[0m\u001b[1m \u001b[0m┃\u001b[1m \u001b[0m\u001b[1mOutput Shape          \u001b[0m\u001b[1m \u001b[0m┃\u001b[1m \u001b[0m\u001b[1m      Param #\u001b[0m\u001b[1m \u001b[0m┃\n",
       "┡━━━━━━━━━━━━━━━━━━━━━━━━━━━━━━━━━╇━━━━━━━━━━━━━━━━━━━━━━━━╇━━━━━━━━━━━━━━━┩\n",
       "│ embedding (\u001b[38;5;33mEmbedding\u001b[0m)           │ (\u001b[38;5;34m32\u001b[0m, \u001b[38;5;34m500\u001b[0m, \u001b[38;5;34m128\u001b[0m)         │     \u001b[38;5;34m1,280,000\u001b[0m │\n",
       "├─────────────────────────────────┼────────────────────────┼───────────────┤\n",
       "│ simple_rnn (\u001b[38;5;33mSimpleRNN\u001b[0m)          │ (\u001b[38;5;34m32\u001b[0m, \u001b[38;5;34m128\u001b[0m)              │        \u001b[38;5;34m32,896\u001b[0m │\n",
       "├─────────────────────────────────┼────────────────────────┼───────────────┤\n",
       "│ dense (\u001b[38;5;33mDense\u001b[0m)                   │ (\u001b[38;5;34m32\u001b[0m, \u001b[38;5;34m1\u001b[0m)                │           \u001b[38;5;34m129\u001b[0m │\n",
       "└─────────────────────────────────┴────────────────────────┴───────────────┘\n"
      ]
     },
     "metadata": {},
     "output_type": "display_data"
    },
    {
     "data": {
      "text/html": [
       "<pre style=\"white-space:pre;overflow-x:auto;line-height:normal;font-family:Menlo,'DejaVu Sans Mono',consolas,'Courier New',monospace\"><span style=\"font-weight: bold\"> Total params: </span><span style=\"color: #00af00; text-decoration-color: #00af00\">1,313,027</span> (5.01 MB)\n",
       "</pre>\n"
      ],
      "text/plain": [
       "\u001b[1m Total params: \u001b[0m\u001b[38;5;34m1,313,027\u001b[0m (5.01 MB)\n"
      ]
     },
     "metadata": {},
     "output_type": "display_data"
    },
    {
     "data": {
      "text/html": [
       "<pre style=\"white-space:pre;overflow-x:auto;line-height:normal;font-family:Menlo,'DejaVu Sans Mono',consolas,'Courier New',monospace\"><span style=\"font-weight: bold\"> Trainable params: </span><span style=\"color: #00af00; text-decoration-color: #00af00\">1,313,025</span> (5.01 MB)\n",
       "</pre>\n"
      ],
      "text/plain": [
       "\u001b[1m Trainable params: \u001b[0m\u001b[38;5;34m1,313,025\u001b[0m (5.01 MB)\n"
      ]
     },
     "metadata": {},
     "output_type": "display_data"
    },
    {
     "data": {
      "text/html": [
       "<pre style=\"white-space:pre;overflow-x:auto;line-height:normal;font-family:Menlo,'DejaVu Sans Mono',consolas,'Courier New',monospace\"><span style=\"font-weight: bold\"> Non-trainable params: </span><span style=\"color: #00af00; text-decoration-color: #00af00\">0</span> (0.00 B)\n",
       "</pre>\n"
      ],
      "text/plain": [
       "\u001b[1m Non-trainable params: \u001b[0m\u001b[38;5;34m0\u001b[0m (0.00 B)\n"
      ]
     },
     "metadata": {},
     "output_type": "display_data"
    },
    {
     "data": {
      "text/html": [
       "<pre style=\"white-space:pre;overflow-x:auto;line-height:normal;font-family:Menlo,'DejaVu Sans Mono',consolas,'Courier New',monospace\"><span style=\"font-weight: bold\"> Optimizer params: </span><span style=\"color: #00af00; text-decoration-color: #00af00\">2</span> (12.00 B)\n",
       "</pre>\n"
      ],
      "text/plain": [
       "\u001b[1m Optimizer params: \u001b[0m\u001b[38;5;34m2\u001b[0m (12.00 B)\n"
      ]
     },
     "metadata": {},
     "output_type": "display_data"
    }
   ],
   "source": [
    "model=load_model('simple_rnn_imdb.h5')\n",
    "model.summary()"
   ]
  },
  {
   "cell_type": "code",
   "execution_count": 5,
   "metadata": {},
   "outputs": [
    {
     "data": {
      "text/plain": [
       "[array([[ 0.33302578,  0.07027847, -0.26882306, ...,  0.2804132 ,\n",
       "         -0.35034403, -0.30069378],\n",
       "        [ 0.01336956,  0.00540102,  0.03254708, ..., -0.02956935,\n",
       "         -0.01300118, -0.03733738],\n",
       "        [-0.04189407, -0.03499269,  0.00497112, ..., -0.07362723,\n",
       "          0.08757434,  0.04179433],\n",
       "        ...,\n",
       "        [ 0.1483879 ,  0.08238384, -0.1061332 , ...,  0.03501388,\n",
       "         -0.02709934, -0.06236769],\n",
       "        [ 0.00291055, -0.00753068,  0.15977229, ..., -0.05081627,\n",
       "          0.16365352,  0.1762916 ],\n",
       "        [ 0.10807029,  0.05776938, -0.11098499, ..., -0.02479237,\n",
       "         -0.05564133, -0.03271993]], dtype=float32),\n",
       " array([[-0.09414215, -0.03383959,  0.00713116, ..., -0.11899261,\n",
       "          0.05126446, -0.1204868 ],\n",
       "        [ 0.00856709, -0.00689204,  0.11632027, ...,  0.10478017,\n",
       "         -0.10325563, -0.08699096],\n",
       "        [-0.14850765, -0.10430809,  0.12296297, ...,  0.13491438,\n",
       "         -0.05309774, -0.14911424],\n",
       "        ...,\n",
       "        [ 0.04692172,  0.06182929, -0.01044122, ..., -0.13055308,\n",
       "          0.13506626,  0.04724939],\n",
       "        [ 0.02223864, -0.06913058, -0.15906845, ..., -0.01856321,\n",
       "         -0.09561569,  0.14712371],\n",
       "        [-0.04521656,  0.03629858, -0.09371323, ...,  0.09333593,\n",
       "         -0.06630782,  0.11633972]], dtype=float32),\n",
       " array([[ 0.13524812, -0.02409016, -0.07464071, ..., -0.03171918,\n",
       "          0.06750604, -0.10297395],\n",
       "        [-0.01036232,  0.04127269, -0.10777969, ...,  0.17190088,\n",
       "         -0.02284652,  0.14385144],\n",
       "        [-0.09746055, -0.17081763,  0.11982323, ...,  0.03572011,\n",
       "         -0.08676358,  0.19550966],\n",
       "        ...,\n",
       "        [ 0.11256537, -0.06252842, -0.1462739 , ..., -0.06333081,\n",
       "          0.00751472,  0.04748115],\n",
       "        [-0.047026  , -0.1036381 , -0.12997754, ..., -0.06054945,\n",
       "          0.00320178, -0.02488974],\n",
       "        [ 0.16426374, -0.03306007, -0.02448674, ..., -0.03185521,\n",
       "         -0.04544629,  0.18812062]], dtype=float32),\n",
       " array([-0.03583288, -0.02059433, -0.02289237, -0.01345188, -0.02520493,\n",
       "        -0.01615435,  0.00910219, -0.00365086, -0.0151779 , -0.02948955,\n",
       "         0.04485044, -0.04707191,  0.00873915,  0.00248237, -0.02210985,\n",
       "        -0.02802673,  0.03756555, -0.0258917 , -0.03033616,  0.002073  ,\n",
       "         0.00696128, -0.02605674, -0.0010593 , -0.02088237, -0.03395581,\n",
       "        -0.02212952, -0.00278919,  0.07832583, -0.0333712 ,  0.01379363,\n",
       "        -0.00547563, -0.02748577,  0.01200334, -0.02058055, -0.03884403,\n",
       "         0.01284019,  0.02110879,  0.03223596, -0.00750213, -0.00267673,\n",
       "         0.03370231, -0.00761311, -0.02354869, -0.00618003, -0.02166142,\n",
       "         0.02531145, -0.02715761,  0.005549  , -0.01737123,  0.02303624,\n",
       "        -0.02830731, -0.01459267,  0.0035655 , -0.0058571 , -0.00413473,\n",
       "        -0.02136746,  0.00667484,  0.03916034,  0.03889347,  0.00666076,\n",
       "         0.00749037, -0.02900413, -0.03032136, -0.01369266, -0.00086517,\n",
       "         0.04232511,  0.04760665, -0.02045925,  0.01330419,  0.01890572,\n",
       "         0.04197226, -0.03194026, -0.02573331, -0.00859564,  0.02978806,\n",
       "        -0.0329914 , -0.01770175,  0.03754121, -0.01688761, -0.02507725,\n",
       "         0.01792684, -0.02361103,  0.0262334 ,  0.01670257, -0.00292739,\n",
       "        -0.0099987 , -0.02992605, -0.00495752,  0.00534566,  0.00020987,\n",
       "        -0.01861767,  0.01083296,  0.04959105, -0.02570767, -0.02591528,\n",
       "         0.02142849,  0.01154324, -0.01862353, -0.01844217, -0.03554763,\n",
       "        -0.02886764,  0.02560863, -0.01385538, -0.03082732, -0.02042039,\n",
       "        -0.03963847, -0.02560485, -0.00864944,  0.0341047 , -0.00646121,\n",
       "        -0.02228888,  0.01377785, -0.00237255, -0.03099798, -0.02922467,\n",
       "         0.01752274, -0.03542445, -0.03000797, -0.03216277, -0.08304065,\n",
       "         0.02185246,  0.04034297, -0.03165331, -0.02402304, -0.00012427,\n",
       "         0.00592559, -0.02590217,  0.03951431], dtype=float32),\n",
       " array([[ 5.31432591e-02],\n",
       "        [ 2.08587155e-01],\n",
       "        [ 1.06964350e-01],\n",
       "        [ 1.13197632e-01],\n",
       "        [ 9.31258917e-01],\n",
       "        [-4.93774980e-01],\n",
       "        [ 1.91098601e-01],\n",
       "        [ 1.22313369e-02],\n",
       "        [ 3.00796069e-02],\n",
       "        [ 6.43551886e-01],\n",
       "        [-2.51307905e-01],\n",
       "        [ 2.84799576e-01],\n",
       "        [ 8.13031793e-02],\n",
       "        [ 1.79299533e-01],\n",
       "        [ 1.74628496e-01],\n",
       "        [ 1.77730113e-01],\n",
       "        [-1.92390874e-01],\n",
       "        [ 1.11255556e-01],\n",
       "        [-1.24307834e-01],\n",
       "        [ 1.74648032e-01],\n",
       "        [ 1.88033015e-01],\n",
       "        [ 2.16526046e-01],\n",
       "        [ 1.73000664e-01],\n",
       "        [-2.13298678e-01],\n",
       "        [-1.98334217e-01],\n",
       "        [ 2.38249749e-01],\n",
       "        [ 1.53138056e-01],\n",
       "        [-1.11975633e-02],\n",
       "        [-3.54050808e-02],\n",
       "        [ 1.33116588e-01],\n",
       "        [ 1.99210942e-02],\n",
       "        [ 1.29117683e-01],\n",
       "        [ 4.89239275e-01],\n",
       "        [ 1.80005893e-01],\n",
       "        [-8.36180001e-02],\n",
       "        [ 4.46163684e-01],\n",
       "        [ 1.77578926e-01],\n",
       "        [-1.51538819e-01],\n",
       "        [ 1.43313074e+00],\n",
       "        [-4.55749184e-02],\n",
       "        [-1.50099874e-01],\n",
       "        [-2.52523143e-02],\n",
       "        [-1.04797266e-01],\n",
       "        [ 1.33052051e-01],\n",
       "        [-1.94876090e-01],\n",
       "        [ 5.33952527e-02],\n",
       "        [ 1.70342013e-01],\n",
       "        [ 8.89444575e-02],\n",
       "        [-7.51139671e-02],\n",
       "        [-6.76271040e-04],\n",
       "        [-3.08551290e-03],\n",
       "        [-8.94400775e-02],\n",
       "        [ 1.71565652e-01],\n",
       "        [-8.94373804e-02],\n",
       "        [ 1.68221629e+00],\n",
       "        [ 1.58592612e-02],\n",
       "        [ 2.42210962e-02],\n",
       "        [-2.35285893e-01],\n",
       "        [-6.03789054e-02],\n",
       "        [-1.99220195e-01],\n",
       "        [ 1.75439775e-01],\n",
       "        [ 1.44809544e-01],\n",
       "        [ 5.67191727e-02],\n",
       "        [-1.38067584e-02],\n",
       "        [ 1.08632714e-01],\n",
       "        [-1.96201265e-01],\n",
       "        [-2.01991484e-01],\n",
       "        [ 4.84636538e-02],\n",
       "        [ 1.55620016e-02],\n",
       "        [-2.34438971e-01],\n",
       "        [ 2.26859793e-01],\n",
       "        [ 1.40101716e-01],\n",
       "        [ 1.41124591e-01],\n",
       "        [-1.47116750e-01],\n",
       "        [-8.80627409e-02],\n",
       "        [ 1.51187956e-01],\n",
       "        [-2.80329525e-01],\n",
       "        [-1.97797507e-01],\n",
       "        [-1.44160211e-01],\n",
       "        [ 4.10906225e-02],\n",
       "        [-1.89587921e-01],\n",
       "        [-2.12586541e-02],\n",
       "        [ 1.39093816e-01],\n",
       "        [-4.24061790e-02],\n",
       "        [-7.66039342e-02],\n",
       "        [ 1.51977628e-01],\n",
       "        [-1.02222860e-01],\n",
       "        [-1.96904063e-01],\n",
       "        [ 1.69500753e-01],\n",
       "        [-7.58896992e-02],\n",
       "        [-2.95728564e-01],\n",
       "        [-1.74967293e-02],\n",
       "        [-8.50879252e-02],\n",
       "        [ 1.20182723e-01],\n",
       "        [-9.20783263e-03],\n",
       "        [ 1.53061405e-01],\n",
       "        [ 5.48490919e-02],\n",
       "        [ 2.51730561e-01],\n",
       "        [ 4.10081178e-01],\n",
       "        [ 1.23893395e-02],\n",
       "        [-5.24830334e-02],\n",
       "        [ 5.68941832e-02],\n",
       "        [-3.65680382e-02],\n",
       "        [ 1.45067632e-01],\n",
       "        [ 6.60473704e-02],\n",
       "        [ 1.39870182e-01],\n",
       "        [ 7.97705427e-02],\n",
       "        [ 1.74617499e-01],\n",
       "        [-1.95064247e-01],\n",
       "        [-1.15636669e-01],\n",
       "        [ 1.35568634e-01],\n",
       "        [-2.61258259e-02],\n",
       "        [-1.66901812e-01],\n",
       "        [ 4.88476865e-02],\n",
       "        [ 1.91101179e-01],\n",
       "        [ 2.34131098e-01],\n",
       "        [-4.14620340e-02],\n",
       "        [ 1.32085279e-01],\n",
       "        [ 2.20860504e-02],\n",
       "        [-6.61405697e-02],\n",
       "        [-2.68502831e-01],\n",
       "        [-2.42319927e-01],\n",
       "        [-1.77236080e-01],\n",
       "        [ 1.31453604e-01],\n",
       "        [-1.55167013e-01],\n",
       "        [-2.01914716e+00],\n",
       "        [-1.50486827e-02],\n",
       "        [ 1.71236232e-01]], dtype=float32),\n",
       " array([0.94040823], dtype=float32)]"
      ]
     },
     "execution_count": 5,
     "metadata": {},
     "output_type": "execute_result"
    }
   ],
   "source": [
    "model.get_weights()"
   ]
  },
  {
   "cell_type": "code",
   "execution_count": 6,
   "metadata": {},
   "outputs": [],
   "source": [
    "from tensorflow.keras.preprocessing import sequence\n",
    "def decode_review(encoded_review):\n",
    "    return ' '.join([reverse_word_index.get(i-3,'?') for i in encoded_review])\n",
    "\n",
    "def preprocess_text(text):\n",
    "    words=text.lower().split()\n",
    "    encoded_review=[word_index.get(word,2)for word in words]\n",
    "    padded_review=sequence.pad_sequences([encoded_review],maxlen=500)\n",
    "    return padded_review"
   ]
  },
  {
   "cell_type": "code",
   "execution_count": 7,
   "metadata": {},
   "outputs": [],
   "source": [
    "def predict_sentiment(review):\n",
    "    preprocessed_input=preprocess_text(review)\n",
    "    prediction=model.predict(preprocessed_input)\n",
    "    sentiment='Positive' if prediction[0][0]>0.5 else \"Negative\"\n",
    "    \n",
    "    return sentiment,prediction[0][0]"
   ]
  }
 ],
 "metadata": {
  "kernelspec": {
   "display_name": "Python 3",
   "language": "python",
   "name": "python3"
  },
  "language_info": {
   "codemirror_mode": {
    "name": "ipython",
    "version": 3
   },
   "file_extension": ".py",
   "mimetype": "text/x-python",
   "name": "python",
   "nbconvert_exporter": "python",
   "pygments_lexer": "ipython3",
   "version": "3.12.4"
  }
 },
 "nbformat": 4,
 "nbformat_minor": 2
}
